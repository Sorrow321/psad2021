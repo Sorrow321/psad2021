{
 "cells": [
  {
   "cell_type": "markdown",
   "metadata": {},
   "source": [
    "<center>Заметка 2. \tBootstrap. Проверка гипотез.</center>\n",
    "<center>курс <q>Прикладной статистический анализ данных</q>.</center>\n",
    "<center>Версия 1. 19 февраля 2021 г.</center>"
   ]
  },
  {
   "cell_type": "markdown",
   "metadata": {},
   "source": [
    "<b>Шаг 1: Создание повторных выборок (\"псевдовыборок\")</b>  \n",
    "\n",
    "Создаем сотни новых выборок путем сэмплирования объектов с возвращением из исходной случайной выборки. Размер каждой повторной выборки совпадает с исходной случайной выборкой. В результате, каждый объект может встречаться один раз, более одного раза или вообще отсутствовать. \n",
    "\n",
    "<b>Шаг 2: Расчёт бутстреп распределения</b>   \n",
    "\n",
    "Вычисляется статистика для каждой повторной выборки. Множество полученных статистик образует некоторое выборочное распределение и называется бутстреп-распределением.  \n",
    "\n",
    "<b>Шаг 3: Применение бутстреп-распределение</b>  \n",
    "\n",
    "Бутстреп-распределение дает информацию о форме, центре и разбросе выборочного распределения исследуемой статистики. С его помощью можно вычислять доверительные интервалы на данную статистику с произвольным уровнем значимости."
   ]
  },
  {
   "cell_type": "markdown",
   "metadata": {},
   "source": [
    "<b>Основная идея</b>\n",
    "\n",
    "- Повторные выборки из основной представляют то, что мы получили бы, если бы взяли большое количество выборок из популяции.\n",
    "\n",
    "- Распределение статистики бутстрепа, основанное на множестве повторных выборок представляет собой выборочное распределение статистики, основанное на множестве истинных выборок."
   ]
  },
  {
   "cell_type": "markdown",
   "metadata": {},
   "source": [
    "## Bootstrap standart error"
   ]
  },
  {
   "cell_type": "markdown",
   "metadata": {},
   "source": [
    "Если интересующая нас статистика является средним значением выборки $\\bar{x}$, то стандартная ошибка бутстрепа, основанная на повторных выборках:\n",
    "\n",
    "$$SE_{boot,\\bar{x}}= \\sqrt{\\frac{1}{B-1}\\sum\\bigg(\\bar{x}^* - \\frac{1}{B}\\sum\\bar{x}^*\\bigg)^2}$$\n",
    " \n",
    "В этом выражении $\\bar{x}^*$ представляет собой среднее значение отдельной повторной выборки. Стандартная ошибка бутстрепа -- это обычное стандартное отклонение значений $B$ в $\\bar{x}^*$. Звездочка в $\\bar{x}^*$ отличает среднее значение повторной выборки от среднего значения $\\bar{x}$ исходной выборки."
   ]
  },
  {
   "cell_type": "markdown",
   "metadata": {},
   "source": [
    "## Распределение выборки и бутстреп распределение"
   ]
  },
  {
   "cell_type": "markdown",
   "metadata": {},
   "source": [
    "<b>1. Параметрический метод</b>\n",
    "\n",
    "Если мы знаем, что объекты из генеральной совокупности распределены нормально, то теория говорит нам, что выборочное распределение их среднего значения $\\bar{x}$ также является нормальным."
   ]
  },
  {
   "cell_type": "markdown",
   "metadata": {},
   "source": [
    "![Теория](https://user-images.githubusercontent.com/60938140/74949302-a0aa1d80-540e-11ea-8f0c-73b6050fc7fd.png)"
   ]
  },
  {
   "cell_type": "markdown",
   "metadata": {},
   "source": [
    " "
   ]
  },
  {
   "cell_type": "markdown",
   "metadata": {},
   "source": [
    "<b>2. Наивный метод</b>\n",
    "\n",
    "Берём очень много истинных выборок, считаем среднее значение $\\bar{x}$ для каждой истинной выборки и смотрим на распределение этих значений."
   ]
  },
  {
   "cell_type": "markdown",
   "metadata": {},
   "source": [
    "![Наивныйметод](https://user-images.githubusercontent.com/60938140/74949346-b28bc080-540e-11ea-86fb-e85f9a878c5a.png)"
   ]
  },
  {
   "cell_type": "markdown",
   "metadata": {},
   "source": [
    " "
   ]
  },
  {
   "cell_type": "markdown",
   "metadata": {},
   "source": [
    "<b>3. Бутстреп</b>\n",
    "\n",
    "Когда теория не работает, и мы можем позволить себе только одну истинную выборку, то эта истинная выборка заменяет генеральную совокупность. Тогда распределение $\\bar{x}$ рассчитанное по множеству \"псевдовыборок\" заменяет распределение выборки."
   ]
  },
  {
   "cell_type": "markdown",
   "metadata": {},
   "source": [
    "![Бутстреп](https://user-images.githubusercontent.com/60938140/74949363-b91a3800-540e-11ea-8175-f1606d751cea.png)"
   ]
  },
  {
   "cell_type": "markdown",
   "metadata": {},
   "source": [
    "# Расходы покупателей"
   ]
  },
  {
   "cell_type": "markdown",
   "metadata": {},
   "source": [
    "Имеются размеры сумм в долларах, потраченных 50 покупателями в супермаркете. Мы готовы рассматривать это как SRS (Simple Random Sample) всех покупателей на этом рынке.     "
   ]
  },
  {
   "cell_type": "code",
   "execution_count": 1,
   "metadata": {},
   "outputs": [],
   "source": [
    "import seaborn as sns\n",
    "import numpy as np\n",
    "import matplotlib.pyplot as plt\n",
    "spending = np.array([3.11, 8.88, 9.26, 10.81, 12.69, 13.78, 15.23, 15.62, 17.00, 17.39,\n",
    "            18.36, 18.43, 19.27, 19.50, 19.54, 20.16, 20.59, 22.22, 23.04, 24.47,\n",
    "            24.58, 25.13, 26.24, 26.26, 27.65, 28.06, 28.08, 28.38, 32.03, 34.98,\n",
    "            36.37, 38.64, 39.16, 41.02, 42.97, 44.08, 44.67, 45.40, 46.69, 48.65,\n",
    "            50.39, 52.75, 54.80, 59.07, 61.22, 70.32, 82.70, 85.76, 86.37, 93.34])"
   ]
  },
  {
   "cell_type": "code",
   "execution_count": 2,
   "metadata": {},
   "outputs": [
    {
     "data": {
      "text/plain": [
       "34.7022"
      ]
     },
     "execution_count": 2,
     "metadata": {},
     "output_type": "execute_result"
    }
   ],
   "source": [
    "np.mean(spending)"
   ]
  },
  {
   "cell_type": "markdown",
   "metadata": {},
   "source": [
    "1) Составьте гистограмму данных. Распределение слегка искажено."
   ]
  },
  {
   "cell_type": "code",
   "execution_count": null,
   "metadata": {},
   "outputs": [],
   "source": []
  },
  {
   "cell_type": "markdown",
   "metadata": {},
   "source": [
    "2) Центральная предельная теорема говорит, что средние значения выборок будут группироваться вблизи среднего значения совокупности более плотно по мере увеличения размера каждой выборки. Распределение выборки примерно нормальное для n = 50? Чтобы выяснить это, воспользуйтесь бутстрепом и посмотрите среднее для полученного распределения."
   ]
  },
  {
   "cell_type": "code",
   "execution_count": null,
   "metadata": {},
   "outputs": [],
   "source": []
  },
  {
   "cell_type": "markdown",
   "metadata": {},
   "source": [
    "3) Сравните стандартные ошибки. \n",
    "\n",
    "У нас есть два способа оценить стандартное отклонение среднего значения выборки $\\bar{x}$: использовать формулу $s\\big/\\sqrt{n}$ для стандартной ошибки или использовать bootstrap standart error. Найдите стандартное отклонение выборки $s$ и используйте его, чтобы найти стандартную ошибку $s\\big/\\sqrt{n}$ среднего значения выборки. Насколько ваш результат согласуется с bootstrap standart error?"
   ]
  },
  {
   "cell_type": "code",
   "execution_count": null,
   "metadata": {},
   "outputs": [],
   "source": []
  },
  {
   "cell_type": "markdown",
   "metadata": {},
   "source": [
    "## Доверительный интервал"
   ]
  },
  {
   "cell_type": "markdown",
   "metadata": {},
   "source": [
    "Вспомним односторонний доверительный интервал для среднего значения нормально распределеной совокупности:\n",
    "\n",
    "$$\\bar{x} \\pm t^* \\frac{s}{\\sqrt{n}}$$\n",
    "\n",
    "Этот интервал основан на нормальном распределении выборки со средним значением выборки $x$ и формулой для стандартной ошибки выборки $x$. Когда бутстреп распределение приблизительно нормальное и имеет небольшое смещение, мы можем использовать ту же самую формулу со стандартной ошибкой бутстрепа, чтобы получить доверительный интервал для любого параметра. \n",
    "\n",
    "Предположим, что бутстреп распределение статистики из SRS размера $n$ приблизительно нормально и мало смещено. Тогда аппроксимация доверительного интервала на любую статистику вычисляется через бутстреп:\n",
    "\n",
    "$$statistic \\pm t^*SE_{boot,statistic}$$\n",
    "\n",
    "где $t^*$ - критическое значение $t(n-1)$ распределения с площадью между $-t^*$ и $t^*$."
   ]
  },
  {
   "cell_type": "code",
   "execution_count": 3,
   "metadata": {},
   "outputs": [],
   "source": [
    "import scipy\n",
    "from scipy.stats import t"
   ]
  },
  {
   "cell_type": "markdown",
   "metadata": {},
   "source": [
    "4) Найдите 95% доверительный интервал для среднего $\\mu$ генеральной совокупности, основываясь на ваших \"псевдовыборках\".  "
   ]
  },
  {
   "cell_type": "code",
   "execution_count": null,
   "metadata": {},
   "outputs": [],
   "source": []
  },
  {
   "cell_type": "markdown",
   "metadata": {},
   "source": [
    "5) Также найдите стандартный односторонний доверительный интервал."
   ]
  },
  {
   "cell_type": "code",
   "execution_count": null,
   "metadata": {},
   "outputs": [],
   "source": []
  },
  {
   "cell_type": "markdown",
   "metadata": {},
   "source": [
    "---\n",
    "## Доверительный интервал"
   ]
  },
  {
   "cell_type": "markdown",
   "metadata": {},
   "source": [
    "### Percentile bootstrap\n",
    "\n",
    "$(\\theta^*_{(\\alpha/2)}, \\theta^*_{(1 - \\alpha/2)})$, где $\\theta^*_{(\\alpha/2)}$ означает квантиль бутстреп-распределения статистики.\n",
    "\n",
    "Способ построения доверительного интервала по квантилям бустреп-распределения статистики. Этот метод может быть применен к любой статистике. Он будет хорошо работать в тех случаях, когда распределение бутстрэпа симметрично и центрировано на наблюдаемой статистике."
   ]
  },
  {
   "cell_type": "markdown",
   "metadata": {},
   "source": [
    "6. Найдите 95% доверительный интервал для среднего $\\mu$ генеральной совокупности, основываясь на ваших \"псевдовыборках\" по формуле выше. Оставьте 95% ваших наблюдений. Для этого от полученного бутстреп-распределения отсеките хвосты с помощью `np.quantile`"
   ]
  },
  {
   "cell_type": "code",
   "execution_count": null,
   "metadata": {},
   "outputs": [],
   "source": []
  },
  {
   "cell_type": "markdown",
   "metadata": {},
   "source": [
    "# Продолжительность жизни крыс"
   ]
  },
  {
   "cell_type": "markdown",
   "metadata": {},
   "source": [
    "В исследовании принимало участие 195 крыс. 106 из них держали на строгой диете, оставшиеся 89 — на диете ad libitum. Имеющиеся данные: продолжительность жизни крыс в каждой из групп. Влияет ли диета на продолжительность жизни?"
   ]
  },
  {
   "cell_type": "code",
   "execution_count": 4,
   "metadata": {},
   "outputs": [
    {
     "data": {
      "text/html": [
       "<div>\n",
       "<style scoped>\n",
       "    .dataframe tbody tr th:only-of-type {\n",
       "        vertical-align: middle;\n",
       "    }\n",
       "\n",
       "    .dataframe tbody tr th {\n",
       "        vertical-align: top;\n",
       "    }\n",
       "\n",
       "    .dataframe thead th {\n",
       "        text-align: right;\n",
       "    }\n",
       "</style>\n",
       "<table border=\"1\" class=\"dataframe\">\n",
       "  <thead>\n",
       "    <tr style=\"text-align: right;\">\n",
       "      <th></th>\n",
       "      <th>lifespan</th>\n",
       "      <th>diet</th>\n",
       "    </tr>\n",
       "  </thead>\n",
       "  <tbody>\n",
       "    <tr>\n",
       "      <th>42</th>\n",
       "      <td>974</td>\n",
       "      <td>restricted</td>\n",
       "    </tr>\n",
       "    <tr>\n",
       "      <th>104</th>\n",
       "      <td>1393</td>\n",
       "      <td>restricted</td>\n",
       "    </tr>\n",
       "    <tr>\n",
       "      <th>65</th>\n",
       "      <td>1099</td>\n",
       "      <td>restricted</td>\n",
       "    </tr>\n",
       "    <tr>\n",
       "      <th>139</th>\n",
       "      <td>678</td>\n",
       "      <td>ad libitum</td>\n",
       "    </tr>\n",
       "    <tr>\n",
       "      <th>116</th>\n",
       "      <td>545</td>\n",
       "      <td>ad libitum</td>\n",
       "    </tr>\n",
       "    <tr>\n",
       "      <th>...</th>\n",
       "      <td>...</td>\n",
       "      <td>...</td>\n",
       "    </tr>\n",
       "    <tr>\n",
       "      <th>167</th>\n",
       "      <td>743</td>\n",
       "      <td>ad libitum</td>\n",
       "    </tr>\n",
       "    <tr>\n",
       "      <th>51</th>\n",
       "      <td>1017</td>\n",
       "      <td>restricted</td>\n",
       "    </tr>\n",
       "    <tr>\n",
       "      <th>91</th>\n",
       "      <td>1228</td>\n",
       "      <td>restricted</td>\n",
       "    </tr>\n",
       "    <tr>\n",
       "      <th>150</th>\n",
       "      <td>710</td>\n",
       "      <td>ad libitum</td>\n",
       "    </tr>\n",
       "    <tr>\n",
       "      <th>22</th>\n",
       "      <td>804</td>\n",
       "      <td>restricted</td>\n",
       "    </tr>\n",
       "  </tbody>\n",
       "</table>\n",
       "<p>195 rows × 2 columns</p>\n",
       "</div>"
      ],
      "text/plain": [
       "     lifespan        diet\n",
       "42        974  restricted\n",
       "104      1393  restricted\n",
       "65       1099  restricted\n",
       "139       678  ad libitum\n",
       "116       545  ad libitum\n",
       "..        ...         ...\n",
       "167       743  ad libitum\n",
       "51       1017  restricted\n",
       "91       1228  restricted\n",
       "150       710  ad libitum\n",
       "22        804  restricted\n",
       "\n",
       "[195 rows x 2 columns]"
      ]
     },
     "execution_count": 4,
     "metadata": {},
     "output_type": "execute_result"
    }
   ],
   "source": [
    "%matplotlib inline\n",
    "import matplotlib.pyplot as plt\n",
    "import pandas as pd\n",
    "\n",
    "from sklearn.utils import shuffle\n",
    "\n",
    "rats = pd.read_table(\"rats.txt\", sep=\"\\t\")\n",
    "shuffle(rats)"
   ]
  },
  {
   "cell_type": "code",
   "execution_count": 5,
   "metadata": {},
   "outputs": [],
   "source": [
    "x1 = rats.loc[rats['diet'] == 'restricted']['lifespan']\n",
    "x2 = rats.loc[rats['diet'] == 'ad libitum']['lifespan']"
   ]
  },
  {
   "cell_type": "code",
   "execution_count": 6,
   "metadata": {},
   "outputs": [
    {
     "data": {
      "image/png": "[encoded data removed]",
      "text/plain": [
       "<Figure size 720x360 with 2 Axes>"
      ]
     },
     "metadata": {
      "needs_background": "light"
     },
     "output_type": "display_data"
    }
   ],
   "source": [
    "plt.figure(figsize=(10,5))\n",
    "plt.subplot(1, 2, 1)\n",
    "plt.title('Restricted diet')\n",
    "plt.hist(x1)\n",
    "plt.subplot(1, 2, 2)\n",
    "plt.title('Ad libitum diet')\n",
    "plt.hist(x2)\n",
    "plt.tight_layout();"
   ]
  },
  {
   "cell_type": "markdown",
   "metadata": {},
   "source": [
    "1. Нарисуйте один график с двумя boxplot на нем (для каждой из диет). Укажите на графике 95% доверительный интервал для каждой из медиан. В этом вам поможет функция boxplot(..., notch=TRUE), которой первым аргументом можно передать объект типа формула."
   ]
  },
  {
   "cell_type": "code",
   "execution_count": null,
   "metadata": {},
   "outputs": [],
   "source": []
  },
  {
   "cell_type": "markdown",
   "metadata": {},
   "source": [
    "## Нормальность"
   ]
  },
  {
   "cell_type": "markdown",
   "metadata": {},
   "source": [
    "2. Проверим нормальность двух выборок (для каждой из диет). Для этого нарисуйте qq-график и отметьте на нем прямую линию, соответствующую идеальным теоретическим квантилям нормального распределения. Похожи ли данные на нормальное распределение?"
   ]
  },
  {
   "cell_type": "code",
   "execution_count": 7,
   "metadata": {},
   "outputs": [],
   "source": [
    "import statsmodels.api as sm"
   ]
  },
  {
   "cell_type": "markdown",
   "metadata": {},
   "source": [
    "3. Попробуйте исключить крыс, проживших меньше 400 дней (например, можно предположить, что смерть раньше этого срока вызывается причинами, не связанными с диетой) и снова нарисовать qq-графики. Можно ли применять к этим данным критерии, основанные на предположении о нормальности?"
   ]
  },
  {
   "cell_type": "code",
   "execution_count": null,
   "metadata": {},
   "outputs": [],
   "source": []
  }
 ],
 "metadata": {
  "kernelspec": {
   "display_name": "Python 3",
   "language": "python",
   "name": "python3"
  },
  "language_info": {
   "codemirror_mode": {
    "name": "ipython",
    "version": 3
   },
   "file_extension": ".py",
   "mimetype": "text/x-python",
   "name": "python",
   "nbconvert_exporter": "python",
   "pygments_lexer": "ipython3",
   "version": "3.7.6"
  }
 },
 "nbformat": 4,
 "nbformat_minor": 4
}
