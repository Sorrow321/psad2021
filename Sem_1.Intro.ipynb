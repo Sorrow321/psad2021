{
 "cells": [
  {
   "cell_type": "markdown",
   "metadata": {},
   "source": [
    "<center>Заметка 1. \tПовторение. Основные распределения и статистики.</center>\n",
    "<center>курс <q>Прикладной статистический анализ данных</q>.</center>\n",
    "<center>Версия 1. 12 февраля 2021 г.</center>"
   ]
  },
  {
   "cell_type": "markdown",
   "metadata": {},
   "source": [
    "# Основные понятия"
   ]
  },
  {
   "cell_type": "markdown",
   "metadata": {},
   "source": [
    "![Случайность](https://user-images.githubusercontent.com/60938140/74263436-d9ac0900-4d0f-11ea-8929-bfeecf44fabc.png)"
   ]
  },
  {
   "cell_type": "markdown",
   "metadata": {},
   "source": [
    "<b>Дискретная</b> случайная величина $X$ принимает счётное множество значений $A = \\{a_1, a_2,...\\}$ с вероятностями $p_1,p_2, ..., \\sum_i p_i = 1$. \n",
    "\n",
    "$f_X(a_i) = P(X=a_i)=p_i$ - <b>функция вероятности</b>."
   ]
  },
  {
   "cell_type": "markdown",
   "metadata": {},
   "source": [
    "<b>Непрерывная</b> случайная величина задается с помощью функции <b>распределения</b>:\n",
    "    $$F_X(x)=P(X\\le x)$$\n",
    "или <b>плотности распределения</b>:  \n",
    "    $$f_X(x): \\int\\limits_a^{b} f_x(x)dx = P(a \\le X \\le b)$$"
   ]
  },
  {
   "cell_type": "markdown",
   "metadata": {},
   "source": [
    "## Характеристики распределений"
   ]
  },
  {
   "cell_type": "markdown",
   "metadata": {},
   "source": [
    "- <b>Мат.ожидание</b> - среднее значение $X$:  \n",
    "$$\\mathbb{E}X = \\int xdF(x)$$\n",
    "\n",
    "- <b>Дисперсия</b> - мера разброса $X$:  \n",
    "$$\\mathbb{D}X = \\mathbb{E}((X-\\mathbb{E}X)^2)$$\n",
    "\n",
    "- <b>Квантиль</b> порядка $\\alpha \\in (0,1)$:\n",
    "$$X_\\alpha: P(X \\le X_\\alpha) \\ge \\alpha, \\quad P(X \\ge X_\\alpha) \\ge 1-\\alpha$$\n",
    "- <b>Медиана</b> - квантиль порядка 0.5, центральное значение   \n",
    "распределения:  \n",
    "$$\\operatorname{med} X: P(X \\le \\operatorname{med} X) \\ge 0.5, \\quad P(X \\ge \\operatorname{med} X) \\ge 0.5$$\n",
    "- <b>Интерквартильный размах</b>:\n",
    "$$IQR . = X_{0.75} - X_{0.25}$$\n",
    "- <b>Мода</b> - точка максимума функции вероятности или плотности:\n",
    "$$\\operatorname{mode} X = \\operatorname{argmax}_x f(x)$$\n",
    "- <b>Коэффициент ассиметрии</b> (skewness)\n",
    "$$\\gamma_1 = \\mathbb{E}\\bigg(\\frac{X- \\mathbb{E}X}{\\sqrt{\\mathbb{D}X}}\\bigg)^3$$"
   ]
  },
  {
   "cell_type": "code",
   "execution_count": 2,
   "metadata": {},
   "outputs": [],
   "source": [
    "from scipy.stats import skewnorm, skew\n",
    "import matplotlib.pyplot as plt\n",
    "%matplotlib inline\n",
    "import numpy as np\n",
    "import random"
   ]
  },
  {
   "cell_type": "code",
   "execution_count": 4,
   "metadata": {},
   "outputs": [
    {
     "data": {
      "image/png": "[encoded data removed]",
      "text/plain": [
       "<Figure size 432x288 with 1 Axes>"
      ]
     },
     "metadata": {
      "needs_background": "light"
     },
     "output_type": "display_data"
    }
   ],
   "source": [
    "array_skew = skewnorm.rvs(5, size = 1000)\n",
    "\n",
    "plt.hist(array_skew, density = True, alpha = 0.2)\n",
    "plt.show()"
   ]
  },
  {
   "cell_type": "code",
   "execution_count": 5,
   "metadata": {},
   "outputs": [
    {
     "data": {
      "text/plain": [
       "0.9041384518494295"
      ]
     },
     "execution_count": 5,
     "metadata": {},
     "output_type": "execute_result"
    }
   ],
   "source": [
    "skew(array_skew)"
   ]
  },
  {
   "cell_type": "markdown",
   "metadata": {},
   "source": [
    "- <b>Коэффициент эксцесса</b> (excess, без вычитания тройки - kurtosis) \n",
    "$$\\gamma_2 = \\frac {\\mathbb{E}(X-\\mathbb{E}X)^4}{(\\mathbb{D}X)^2}-3$$"
   ]
  },
  {
   "cell_type": "code",
   "execution_count": 7,
   "metadata": {},
   "outputs": [],
   "source": [
    "from scipy.stats import kurtosis \n",
    "from scipy.stats import logistic, laplace, norm\n",
    "x = np.linspace(-5,5,1000)"
   ]
  },
  {
   "cell_type": "code",
   "execution_count": 10,
   "metadata": {},
   "outputs": [
    {
     "data": {
      "text/plain": [
       "[<matplotlib.lines.Line2D at 0x7ff9f11eaa50>]"
      ]
     },
     "execution_count": 10,
     "metadata": {},
     "output_type": "execute_result"
    },
    {
     "data": {
      "image/png": "[encoded data removed]",
      "text/plain": [
       "<Figure size 432x288 with 1 Axes>"
      ]
     },
     "metadata": {
      "needs_background": "light"
     },
     "output_type": "display_data"
    }
   ],
   "source": [
    "plt.plot(x, norm.pdf(x))\n",
    "plt.plot(x, logistic.pdf(x))\n",
    "plt.plot(x, laplace.pdf(x))"
   ]
  },
  {
   "cell_type": "markdown",
   "metadata": {},
   "source": [
    "## Статистики"
   ]
  },
  {
   "cell_type": "markdown",
   "metadata": {},
   "source": [
    "### Нормальное распределение"
   ]
  },
  {
   "cell_type": "markdown",
   "metadata": {},
   "source": [
    "$X \\in \\mathbb{R} \\sim N(\\mu,\\sigma^2),\\quad \\sigma^2 > 0$"
   ]
  },
  {
   "cell_type": "markdown",
   "metadata": {},
   "source": [
    "- Предельное распределение суммы слабо взаимозависимых сл. в.   \n",
    "\n",
    "- $\\mathbb{E}X=\\operatorname{med}X=\\operatorname{mode}X=\\mu, \\mathbb{D}X=\\sigma^2$, все моменты более высокого порядка нулевые  \n",
    "\n",
    "- Пусть $X_1,\\ldots,X_n$ независимы, $X_i \\sim N(\\mu_i,\\sigma_{i}^2)$, тогда $\\forall a_i, \\ldots, a_n$  \n",
    "$$\\sum\\limits_{i=1}^{n} \\alpha_i X_i \\sim  N\\bigg(\\sum\\limits_{i=1}^n a_i \\mu_i, \\sum\\limits_{i=1}^n a_{i}^2 \\sigma^{2}_i\\bigg)$$  \n",
    "\n",
    "- Центральная предельная теорема: пусть $X_1,\\ldots, X_n$ i.i.d. с $\\mathbb{E}X$ и\n",
    "    $\\mathbb{D}X < \\infty$, тогда  \n",
    "    $$\\frac{1}{n}\\sum\\limits_{i=1}^{n} X_i\\sim\\approx N \\bigg(\\mathbb{E}X, \\frac{\\mathbb{D}X}{n}\\bigg)$$  \n",
    "    \n",
    "- Пример: погрешность измерения"
   ]
  },
  {
   "cell_type": "code",
   "execution_count": 16,
   "metadata": {},
   "outputs": [
    {
     "data": {
      "text/plain": [
       "[<matplotlib.lines.Line2D at 0x7ff9f0387050>]"
      ]
     },
     "execution_count": 16,
     "metadata": {},
     "output_type": "execute_result"
    },
    {
     "data": {
      "image/png": "[encoded data removed]",
      "text/plain": [
       "<Figure size 432x288 with 1 Axes>"
      ]
     },
     "metadata": {
      "needs_background": "light"
     },
     "output_type": "display_data"
    }
   ],
   "source": [
    "plt.plot(x, norm.pdf(x, 0,1))"
   ]
  },
  {
   "cell_type": "code",
   "execution_count": 18,
   "metadata": {},
   "outputs": [
    {
     "data": {
      "text/plain": [
       "[<matplotlib.lines.Line2D at 0x7ff9f12a6a90>]"
      ]
     },
     "execution_count": 18,
     "metadata": {},
     "output_type": "execute_result"
    },
    {
     "data": {
      "image/png": "[encoded data removed]",
      "text/plain": [
       "<Figure size 432x288 with 1 Axes>"
      ]
     },
     "metadata": {
      "needs_background": "light"
     },
     "output_type": "display_data"
    }
   ],
   "source": [
    "plt.plot(x, norm.cdf(x, 0,1))\n",
    "plt.plot(x, norm.cdf(x, 0,2))"
   ]
  },
  {
   "cell_type": "code",
   "execution_count": 12,
   "metadata": {},
   "outputs": [],
   "source": [
    "?norm.pdf"
   ]
  },
  {
   "cell_type": "markdown",
   "metadata": {},
   "source": [
    "### Распределение хи-квадрат"
   ]
  },
  {
   "cell_type": "markdown",
   "metadata": {},
   "source": [
    "$X \\in \\mathbb{R}_+ \\sim \\chi^{2}_{k}, k \\in \\mathbb{N}$"
   ]
  },
  {
   "cell_type": "markdown",
   "metadata": {},
   "source": [
    "- Пусть $X_1,\\ldots,X_k$ - i.i.d., $\\quad X_i \\sim N(0,1)$, тогда\n",
    "$$\\sum\\limits_{i=1}^{n} X^{2}_i \\sim \\chi^{2}_k$$  \n",
    "- Пример: нормированная выборочная дисперсия $$(n-1)\\frac{S^{2}_n}{\\sigma^2} \\sim \\chi^2_{n-1}$$"
   ]
  },
  {
   "cell_type": "code",
   "execution_count": 3,
   "metadata": {},
   "outputs": [],
   "source": [
    "from scipy.stats import chi2"
   ]
  },
  {
   "cell_type": "code",
   "execution_count": null,
   "metadata": {},
   "outputs": [],
   "source": []
  },
  {
   "cell_type": "markdown",
   "metadata": {},
   "source": [
    "### Распределение Стьюдента"
   ]
  },
  {
   "cell_type": "markdown",
   "metadata": {},
   "source": [
    "$X \\in \\mathbb{R} \\sim St(v), v >0$"
   ]
  },
  {
   "cell_type": "markdown",
   "metadata": {},
   "source": [
    "- $\\mathbb{E}X=0$ при $v>1$, $\\operatorname{med}X=\\operatorname{mode}X=0$\n",
    "- Пусть $Z \\sim N(0,1)$ и $V \\sim \\chi^{2}_{v}$, тогда\n",
    "$$T = \\frac{Z}{\\sqrt{V/v}} \\sim St(v)$$\n",
    "- Если $X \\sim St(v)$, то \n",
    "$$Y = \\lim\\limits_{v \\to \\infty }X \\sim N(0,1)$$\n",
    "- Возникает при оценке среднего значения сл. в. с неизвестной дисперсией"
   ]
  },
  {
   "cell_type": "code",
   "execution_count": 20,
   "metadata": {},
   "outputs": [],
   "source": [
    "from scipy.stats import t"
   ]
  },
  {
   "cell_type": "code",
   "execution_count": 28,
   "metadata": {},
   "outputs": [
    {
     "data": {
      "text/plain": [
       "<matplotlib.legend.Legend at 0x7ff9eecc3a90>"
      ]
     },
     "execution_count": 28,
     "metadata": {},
     "output_type": "execute_result"
    },
    {
     "data": {
      "image/png": "[encoded data removed]",
      "text/plain": [
       "<Figure size 432x288 with 1 Axes>"
      ]
     },
     "metadata": {
      "needs_background": "light"
     },
     "output_type": "display_data"
    }
   ],
   "source": [
    "plt.plot(x, t.pdf(x, 5), label = 'v = 5')\n",
    "plt.plot(x, t.pdf(x, 10), label = 'v = 10')\n",
    "plt.plot(x, t.pdf(x, 100), label = 'v = 100')\n",
    "plt.plot(x, norm.pdf(x, 0,1), label = 'norm')\n",
    "plt.legend(loc = 'best')"
   ]
  },
  {
   "cell_type": "markdown",
   "metadata": {},
   "source": [
    "### Распределение Фишера"
   ]
  },
  {
   "cell_type": "markdown",
   "metadata": {},
   "source": [
    "$X \\in \\mathbb{R}_+ F(d_1, d_2), d_1,d_2 > 0$"
   ]
  },
  {
   "cell_type": "markdown",
   "metadata": {},
   "source": [
    "- пусть $X_1 \\sim \\chi^2_{d_1}, X_2 \\sim \\chi^2_{d_2}, X_1$ и $X_2$ независимы, тогда\n",
    "$\\frac{X_1/d_1}{X_2/d2} \\sim F(d_1, d_2)$\n",
    "- если $X \\sim F(d_1, d_2)$, то $Y = \\lim_{d_2 \\to \\infty} d_1 X \\sim \\chi^2_{d_1} $\n",
    "- $F(x, d_1, d_2) = F(1/x, d_2, d_1)$\n",
    "- возникает в дисперсионном и регрессионном анализе"
   ]
  },
  {
   "cell_type": "code",
   "execution_count": 30,
   "metadata": {},
   "outputs": [],
   "source": [
    "from scipy.stats import f"
   ]
  },
  {
   "cell_type": "code",
   "execution_count": 33,
   "metadata": {},
   "outputs": [
    {
     "data": {
      "text/plain": [
       "[<matplotlib.lines.Line2D at 0x7ff9efd10850>]"
      ]
     },
     "execution_count": 33,
     "metadata": {},
     "output_type": "execute_result"
    },
    {
     "data": {
      "image/png": "[encoded data removed]",
      "text/plain": [
       "<Figure size 432x288 with 1 Axes>"
      ]
     },
     "metadata": {
      "needs_background": "light"
     },
     "output_type": "display_data"
    }
   ],
   "source": [
    "\n",
    "\n",
    "x1 = np.linspace(0,5,1000)\n",
    "plt.plot(x1, f.pdf(x1, 1, 1), label = '1,1')"
   ]
  },
  {
   "cell_type": "markdown",
   "metadata": {},
   "source": [
    "### Биномиальное распределение"
   ]
  },
  {
   "cell_type": "markdown",
   "metadata": {},
   "source": [
    "$X \\in \\{0,..., N\\} \\sim Bin(N,p), N \\in \\mathbb{N}, p \\in [0,1]$"
   ]
  },
  {
   "cell_type": "markdown",
   "metadata": {},
   "source": [
    "- пусть $X_1, ..., X_n$ независимы, $X_i \\sim Ber(p)$, тогда $\\sum_{i=1}^{n}X_i \\sim Bin(n,p)$\n",
    "- $Bin(1,p) = Ber(p)$\n",
    "- если $N > 20$ и $p$ не слишком близко к нулю или единице, то для $X \\sim Bin(N,p)$ справедлива нормальная апроксимация \n",
    "$F_X(x) = \\Phi \\Big(\\frac{x - Np}{\\sqrt{Np(1-p)}}\\Big)$\n",
    "- пример: число попаданий из N бросков в баскетбольное кольцо"
   ]
  },
  {
   "cell_type": "code",
   "execution_count": 6,
   "metadata": {},
   "outputs": [],
   "source": [
    "from scipy.stats import binom"
   ]
  },
  {
   "cell_type": "code",
   "execution_count": null,
   "metadata": {},
   "outputs": [],
   "source": []
  },
  {
   "cell_type": "markdown",
   "metadata": {},
   "source": [
    "### Распределение Бернулли"
   ]
  },
  {
   "cell_type": "markdown",
   "metadata": {},
   "source": [
    "$X \\ in {0,1} \\sim Ber(p), p \\in (0,1)$\n",
    "\n",
    "$F(x) = \n",
    " \\begin{cases}\n",
    "    0,& x < 0\\\\\n",
    "   1-p, & 0 \\le x < 1 \\\\\n",
    "   1, & x \\ge 1\n",
    " \\end{cases}$\n",
    " \n",
    "$f(x) = \n",
    " \\begin{cases}\n",
    "    1-p,& x = 0\\\\\n",
    "   p, & x = 1\n",
    " \\end{cases}$"
   ]
  },
  {
   "cell_type": "code",
   "execution_count": 7,
   "metadata": {},
   "outputs": [],
   "source": [
    "from scipy.stats import bernoulli"
   ]
  },
  {
   "cell_type": "code",
   "execution_count": null,
   "metadata": {},
   "outputs": [],
   "source": []
  },
  {
   "cell_type": "markdown",
   "metadata": {},
   "source": [
    "### Распределение Пуассона"
   ]
  },
  {
   "cell_type": "markdown",
   "metadata": {},
   "source": [
    "$X \\in \\{0,1,2,..\\} \\sim Pois(\\lambda), \\lambda > 0$"
   ]
  },
  {
   "cell_type": "markdown",
   "metadata": {},
   "source": [
    "- распределение числа независимых событий в фиксированном временном или пространственном интервале\n",
    "- $\\mathbb{E} X = \\mathbb{D} X = \\lambda$\n",
    "- пусть $X_1, ..., X_n$ независимы, $X_i \\sim Pois(\\lambda_i)$ , тогда $\\sum_{i=1}^{n} X_i \\sim Pois \\Big(\\sum_{i=1}^{n} \\lambda_i \\Big)$\n",
    "- если $X \\sim Pois(\\lambda)$, $Y = \\sqrt{X}$, то при больших $\\lambda$ $F_Y(x)\\approx\\Phi \\Big(\\frac{x - \\sqrt{\\lambda}}{\\sqrt{\\lambda}}\\Big)$\n",
    "- пример: количество изюма в булочке с изюмом"
   ]
  },
  {
   "cell_type": "code",
   "execution_count": 8,
   "metadata": {},
   "outputs": [],
   "source": [
    "from scipy.stats import poisson"
   ]
  },
  {
   "cell_type": "code",
   "execution_count": null,
   "metadata": {},
   "outputs": [],
   "source": []
  },
  {
   "cell_type": "markdown",
   "metadata": {},
   "source": [
    "## Статистики"
   ]
  },
  {
   "cell_type": "markdown",
   "metadata": {},
   "source": [
    "$F_n(x) = \\frac{1}{n} \\sum\\limits_{i=1}^{n}[X_i \\le x]$ - эмпирическая функция распределения (ECDF). "
   ]
  },
  {
   "cell_type": "markdown",
   "metadata": {},
   "source": [
    "# Эксперимент Майкельсона"
   ]
  },
  {
   "cell_type": "markdown",
   "metadata": {},
   "source": [
    "Данные классического эксперимента Майкельсона по измерению скорости света с помощью вращающегося зеркала, 100 наблюдений:"
   ]
  },
  {
   "cell_type": "code",
   "execution_count": 35,
   "metadata": {},
   "outputs": [],
   "source": [
    "%matplotlib inline\n",
    "import numpy as np\n",
    "import matplotlib.pyplot as plt\n",
    "import pandas as pd\n",
    "\n",
    "from sklearn.utils import shuffle"
   ]
  },
  {
   "cell_type": "code",
   "execution_count": 36,
   "metadata": {},
   "outputs": [
    {
     "data": {
      "text/plain": [
       "array([299850., 299740., 299900., 300070., 299930., 299850., 299950.,\n",
       "       299980., 299980., 299880., 300000., 299980., 299930., 299650.,\n",
       "       299760., 299810., 300000., 300000., 299960., 299960., 299960.,\n",
       "       299940., 299960., 299940., 299880., 299800., 299850., 299880.,\n",
       "       299900., 299840., 299830., 299790., 299810., 299880., 299880.,\n",
       "       299830., 299800., 299790., 299760., 299800., 299880., 299880.,\n",
       "       299880., 299860., 299720., 299720., 299620., 299860., 299970.,\n",
       "       299950., 299880., 299910., 299850., 299870., 299840., 299840.,\n",
       "       299850., 299840., 299840., 299840., 299890., 299810., 299810.,\n",
       "       299820., 299800., 299770., 299760., 299740., 299750., 299760.,\n",
       "       299910., 299920., 299890., 299860., 299880., 299720., 299840.,\n",
       "       299850., 299850., 299780., 299890., 299840., 299780., 299810.,\n",
       "       299760., 299810., 299790., 299810., 299820., 299850., 299870.,\n",
       "       299870., 299810., 299740., 299810., 299940., 299950., 299800.,\n",
       "       299810., 299870.])"
      ]
     },
     "execution_count": 36,
     "metadata": {},
     "output_type": "execute_result"
    }
   ],
   "source": [
    "speed = np.genfromtxt('speed.txt')\n",
    "speed"
   ]
  },
  {
   "cell_type": "code",
   "execution_count": 37,
   "metadata": {},
   "outputs": [
    {
     "data": {
      "text/plain": [
       "(array([ 2.,  0.,  7., 11., 27., 25., 10., 11.,  6.,  1.]),\n",
       " array([299620., 299665., 299710., 299755., 299800., 299845., 299890.,\n",
       "        299935., 299980., 300025., 300070.]),\n",
       " <a list of 10 Patch objects>)"
      ]
     },
     "execution_count": 37,
     "metadata": {},
     "output_type": "execute_result"
    },
    {
     "data": {
      "image/png": "[encoded data removed]",
      "text/plain": [
       "<Figure size 432x288 with 1 Axes>"
      ]
     },
     "metadata": {
      "needs_background": "light"
     },
     "output_type": "display_data"
    }
   ],
   "source": [
    "plt.hist(speed)"
   ]
  },
  {
   "cell_type": "markdown",
   "metadata": {},
   "source": [
    "Можно ли считать наблюдения нормально распределёнными?"
   ]
  },
  {
   "cell_type": "markdown",
   "metadata": {},
   "source": [
    "## Анализ данных"
   ]
  },
  {
   "cell_type": "markdown",
   "metadata": {},
   "source": [
    "1. Постройте на одном графике оцененную при помощи ядрового метода сглаженную гистограмму (оценку плотности распределения), а также кривую плотности нормального распределения с параметрами, оцененным по выборке. (Вам помогут функции `gaussian_kde` и `norm.pdf`, из `scipy.stats`)"
   ]
  },
  {
   "cell_type": "code",
   "execution_count": 38,
   "metadata": {},
   "outputs": [],
   "source": [
    "from scipy.stats import gaussian_kde, norm\n",
    "import statistics"
   ]
  },
  {
   "cell_type": "code",
   "execution_count": 41,
   "metadata": {},
   "outputs": [
    {
     "data": {
      "text/plain": [
       "[<matplotlib.lines.Line2D at 0x7ff9d32dc4d0>]"
      ]
     },
     "execution_count": 41,
     "metadata": {},
     "output_type": "execute_result"
    },
    {
     "data": {
      "image/png": "[encoded data removed]",
      "text/plain": [
       "<Figure size 432x288 with 1 Axes>"
      ]
     },
     "metadata": {
      "needs_background": "light"
     },
     "output_type": "display_data"
    }
   ],
   "source": [
    "density = gaussian_kde(speed)\n",
    "x = np.linspace(min(speed), max(speed))\n",
    "plt.plot(x, density(x))\n",
    "plt.plot(x, norm.pdf(x, statistics.mean(speed), statistics.stdev(speed)))"
   ]
  },
  {
   "cell_type": "markdown",
   "metadata": {},
   "source": [
    "2. Постройте на одном графике эмпирическую функцию распределения (emperical CDF), а также кривую функции распределения нормального распределения (CDF) с параметрами, оцененным по выборке.(Используйте `ECDF` из `statsmodels.api`)"
   ]
  },
  {
   "cell_type": "code",
   "execution_count": 42,
   "metadata": {},
   "outputs": [],
   "source": [
    "import statsmodels.api as sm "
   ]
  },
  {
   "cell_type": "code",
   "execution_count": 43,
   "metadata": {},
   "outputs": [],
   "source": [
    "ecdf = sm.distributions.ECDF(speed)\n",
    "y = ecdf(x)"
   ]
  },
  {
   "cell_type": "code",
   "execution_count": 46,
   "metadata": {},
   "outputs": [
    {
     "data": {
      "text/plain": [
       "[<matplotlib.lines.Line2D at 0x7ff9d4622a10>]"
      ]
     },
     "execution_count": 46,
     "metadata": {},
     "output_type": "execute_result"
    },
    {
     "data": {
      "image/png": "[encoded data removed]",
      "text/plain": [
       "<Figure size 432x288 with 1 Axes>"
      ]
     },
     "metadata": {
      "needs_background": "light"
     },
     "output_type": "display_data"
    }
   ],
   "source": [
    "plt.step(x,y)\n",
    "plt.plot(x, norm.cdf(x, statistics.mean(speed), statistics.stdev(speed)))"
   ]
  },
  {
   "cell_type": "markdown",
   "metadata": {},
   "source": [
    "Статистика $T(X^n)$ - любая измеримая функция выборки.\n",
    "- выборочное среднее:\n",
    "$$\\bar{X} = \\frac{1}{n}\\sum\\limits_{i=1}^n X_i$$\n",
    "- выборочная дисперсия:\n",
    "$$S^2 = \\frac{1}{n-1}\\sum\\limits_{i=1}^{n}(X_i - \\bar{X})^2$$\n",
    "\n",
    "\\\n",
    "Вариационный ряд:\n",
    "$$X_{(1)} \\le X_{(2)} \\le \\ldots \\le X_{(n)}$$\n",
    "Ранг элемента выборки X_i:\n",
    "$$\\operatorname{rank}(X_i) = r: X_i = X_{(r)}$$\n",
    "\n",
    "- $k$-я порядковая статистика: $X_{(k)}$\n",
    "- выборочный $\\alpha$-квантиль: $X_{([n\\alpha])}$\n",
    "- выборочный интерквартильный размах\n",
    "$$IQR_n = X_{([0.75n])} - X_{([0.25n])}$$"
   ]
  },
  {
   "cell_type": "markdown",
   "metadata": {},
   "source": [
    "### Оценки центральной тенденции"
   ]
  },
  {
   "cell_type": "markdown",
   "metadata": {},
   "source": [
    "Выборочное среднее — среднее арифметическое по выборке.  \n",
    "Выборочная медиана — центральный элемент вариационного ряда.   \n",
    "Выборочная мода — самое распространённое значение в выборке.  "
   ]
  },
  {
   "cell_type": "code",
   "execution_count": 48,
   "metadata": {},
   "outputs": [],
   "source": [
    "import statistics\n",
    "income = [45000,15000, 10000, 10000,\n",
    "          5700, 5000, 5000, 5000,\n",
    "          3700, 3700, 3700, 3700,\n",
    "          3000, 2000, 2000, 2000, \n",
    "          2000, 2000, 2000,2000, 2000, \n",
    "          2000, 2000, 2000, 2000]"
   ]
  },
  {
   "cell_type": "code",
   "execution_count": 50,
   "metadata": {},
   "outputs": [
    {
     "data": {
      "image/png": "[encoded data removed]",
      "text/plain": [
       "<Figure size 432x288 with 1 Axes>"
      ]
     },
     "metadata": {
      "needs_background": "light"
     },
     "output_type": "display_data"
    }
   ],
   "source": [
    "plt.hist(income);"
   ]
  },
  {
   "cell_type": "code",
   "execution_count": 51,
   "metadata": {},
   "outputs": [
    {
     "data": {
      "text/plain": [
       "5700"
      ]
     },
     "execution_count": 51,
     "metadata": {},
     "output_type": "execute_result"
    }
   ],
   "source": [
    "round(statistics.mean(income), 2)"
   ]
  },
  {
   "cell_type": "code",
   "execution_count": 52,
   "metadata": {},
   "outputs": [
    {
     "data": {
      "text/plain": [
       "3000"
      ]
     },
     "execution_count": 52,
     "metadata": {},
     "output_type": "execute_result"
    }
   ],
   "source": [
    "round(statistics.median(income), 2)"
   ]
  },
  {
   "cell_type": "code",
   "execution_count": 53,
   "metadata": {},
   "outputs": [
    {
     "data": {
      "text/plain": [
       "2000"
      ]
     },
     "execution_count": 53,
     "metadata": {},
     "output_type": "execute_result"
    }
   ],
   "source": [
    "round(statistics.mode(income), 2)"
   ]
  },
  {
   "cell_type": "markdown",
   "metadata": {},
   "source": [
    "Huff D. How To Lie With Statistics, 1954."
   ]
  },
  {
   "cell_type": "markdown",
   "metadata": {},
   "source": [
    "### Об ограниченности статистик"
   ]
  },
  {
   "cell_type": "code",
   "execution_count": 60,
   "metadata": {},
   "outputs": [
    {
     "data": {
      "text/html": [
       "<div>\n",
       "<style scoped>\n",
       "    .dataframe tbody tr th:only-of-type {\n",
       "        vertical-align: middle;\n",
       "    }\n",
       "\n",
       "    .dataframe tbody tr th {\n",
       "        vertical-align: top;\n",
       "    }\n",
       "\n",
       "    .dataframe thead th {\n",
       "        text-align: right;\n",
       "    }\n",
       "</style>\n",
       "<table border=\"1\" class=\"dataframe\">\n",
       "  <thead>\n",
       "    <tr style=\"text-align: right;\">\n",
       "      <th></th>\n",
       "      <th>x1</th>\n",
       "      <th>x2</th>\n",
       "      <th>x3</th>\n",
       "      <th>x4</th>\n",
       "      <th>y1</th>\n",
       "      <th>y2</th>\n",
       "      <th>y3</th>\n",
       "      <th>y4</th>\n",
       "    </tr>\n",
       "  </thead>\n",
       "  <tbody>\n",
       "    <tr>\n",
       "      <th>0</th>\n",
       "      <td>10</td>\n",
       "      <td>10</td>\n",
       "      <td>10</td>\n",
       "      <td>8</td>\n",
       "      <td>8.04</td>\n",
       "      <td>9.14</td>\n",
       "      <td>7.46</td>\n",
       "      <td>6.58</td>\n",
       "    </tr>\n",
       "    <tr>\n",
       "      <th>1</th>\n",
       "      <td>8</td>\n",
       "      <td>8</td>\n",
       "      <td>8</td>\n",
       "      <td>8</td>\n",
       "      <td>6.95</td>\n",
       "      <td>8.14</td>\n",
       "      <td>6.77</td>\n",
       "      <td>5.76</td>\n",
       "    </tr>\n",
       "    <tr>\n",
       "      <th>2</th>\n",
       "      <td>13</td>\n",
       "      <td>13</td>\n",
       "      <td>13</td>\n",
       "      <td>8</td>\n",
       "      <td>7.58</td>\n",
       "      <td>8.74</td>\n",
       "      <td>12.74</td>\n",
       "      <td>7.71</td>\n",
       "    </tr>\n",
       "    <tr>\n",
       "      <th>3</th>\n",
       "      <td>9</td>\n",
       "      <td>9</td>\n",
       "      <td>9</td>\n",
       "      <td>8</td>\n",
       "      <td>8.81</td>\n",
       "      <td>8.77</td>\n",
       "      <td>7.11</td>\n",
       "      <td>8.84</td>\n",
       "    </tr>\n",
       "    <tr>\n",
       "      <th>4</th>\n",
       "      <td>11</td>\n",
       "      <td>11</td>\n",
       "      <td>11</td>\n",
       "      <td>8</td>\n",
       "      <td>8.33</td>\n",
       "      <td>9.26</td>\n",
       "      <td>7.81</td>\n",
       "      <td>8.47</td>\n",
       "    </tr>\n",
       "    <tr>\n",
       "      <th>5</th>\n",
       "      <td>14</td>\n",
       "      <td>14</td>\n",
       "      <td>14</td>\n",
       "      <td>8</td>\n",
       "      <td>9.96</td>\n",
       "      <td>8.10</td>\n",
       "      <td>8.84</td>\n",
       "      <td>7.04</td>\n",
       "    </tr>\n",
       "    <tr>\n",
       "      <th>6</th>\n",
       "      <td>6</td>\n",
       "      <td>6</td>\n",
       "      <td>6</td>\n",
       "      <td>8</td>\n",
       "      <td>7.24</td>\n",
       "      <td>6.13</td>\n",
       "      <td>6.08</td>\n",
       "      <td>5.25</td>\n",
       "    </tr>\n",
       "    <tr>\n",
       "      <th>7</th>\n",
       "      <td>4</td>\n",
       "      <td>4</td>\n",
       "      <td>4</td>\n",
       "      <td>19</td>\n",
       "      <td>4.26</td>\n",
       "      <td>3.10</td>\n",
       "      <td>5.39</td>\n",
       "      <td>12.50</td>\n",
       "    </tr>\n",
       "    <tr>\n",
       "      <th>8</th>\n",
       "      <td>12</td>\n",
       "      <td>12</td>\n",
       "      <td>12</td>\n",
       "      <td>8</td>\n",
       "      <td>10.84</td>\n",
       "      <td>9.13</td>\n",
       "      <td>8.15</td>\n",
       "      <td>5.56</td>\n",
       "    </tr>\n",
       "    <tr>\n",
       "      <th>9</th>\n",
       "      <td>7</td>\n",
       "      <td>7</td>\n",
       "      <td>7</td>\n",
       "      <td>8</td>\n",
       "      <td>4.82</td>\n",
       "      <td>7.26</td>\n",
       "      <td>6.42</td>\n",
       "      <td>7.91</td>\n",
       "    </tr>\n",
       "    <tr>\n",
       "      <th>10</th>\n",
       "      <td>5</td>\n",
       "      <td>5</td>\n",
       "      <td>5</td>\n",
       "      <td>8</td>\n",
       "      <td>5.68</td>\n",
       "      <td>4.74</td>\n",
       "      <td>5.73</td>\n",
       "      <td>6.89</td>\n",
       "    </tr>\n",
       "  </tbody>\n",
       "</table>\n",
       "</div>"
      ],
      "text/plain": [
       "    x1  x2  x3  x4     y1    y2     y3     y4\n",
       "0   10  10  10   8   8.04  9.14   7.46   6.58\n",
       "1    8   8   8   8   6.95  8.14   6.77   5.76\n",
       "2   13  13  13   8   7.58  8.74  12.74   7.71\n",
       "3    9   9   9   8   8.81  8.77   7.11   8.84\n",
       "4   11  11  11   8   8.33  9.26   7.81   8.47\n",
       "5   14  14  14   8   9.96  8.10   8.84   7.04\n",
       "6    6   6   6   8   7.24  6.13   6.08   5.25\n",
       "7    4   4   4  19   4.26  3.10   5.39  12.50\n",
       "8   12  12  12   8  10.84  9.13   8.15   5.56\n",
       "9    7   7   7   8   4.82  7.26   6.42   7.91\n",
       "10   5   5   5   8   5.68  4.74   5.73   6.89"
      ]
     },
     "execution_count": 60,
     "metadata": {},
     "output_type": "execute_result"
    }
   ],
   "source": [
    "import pandas as pd\n",
    "data = pd.read_csv('Graphs.csv', sep = ';', decimal=',')\n",
    "data"
   ]
  },
  {
   "cell_type": "markdown",
   "metadata": {},
   "source": [
    "Вычислите среднее арифмитическое, дисперсию, корреляцию между $x_i$ и $y_i$. Почему вы получаете такие значения? Обоснуйте ваши суждения с помощью диаграммы рассеяния."
   ]
  },
  {
   "cell_type": "code",
   "execution_count": 61,
   "metadata": {},
   "outputs": [
    {
     "data": {
      "text/plain": [
       "x1    9.000000\n",
       "x2    9.000000\n",
       "x3    9.000000\n",
       "x4    9.000000\n",
       "y1    7.500909\n",
       "y2    7.500909\n",
       "y3    7.500000\n",
       "y4    7.500909\n",
       "dtype: float64"
      ]
     },
     "execution_count": 61,
     "metadata": {},
     "output_type": "execute_result"
    }
   ],
   "source": [
    "data.mean()"
   ]
  },
  {
   "cell_type": "code",
   "execution_count": 62,
   "metadata": {},
   "outputs": [
    {
     "data": {
      "text/plain": [
       "x1    11.000000\n",
       "x2    11.000000\n",
       "x3    11.000000\n",
       "x4    11.000000\n",
       "y1     4.127269\n",
       "y2     4.127629\n",
       "y3     4.122620\n",
       "y4     4.123249\n",
       "dtype: float64"
      ]
     },
     "execution_count": 62,
     "metadata": {},
     "output_type": "execute_result"
    }
   ],
   "source": [
    "data.var()"
   ]
  },
  {
   "cell_type": "code",
   "execution_count": 63,
   "metadata": {},
   "outputs": [
    {
     "data": {
      "text/html": [
       "<div>\n",
       "<style scoped>\n",
       "    .dataframe tbody tr th:only-of-type {\n",
       "        vertical-align: middle;\n",
       "    }\n",
       "\n",
       "    .dataframe tbody tr th {\n",
       "        vertical-align: top;\n",
       "    }\n",
       "\n",
       "    .dataframe thead th {\n",
       "        text-align: right;\n",
       "    }\n",
       "</style>\n",
       "<table border=\"1\" class=\"dataframe\">\n",
       "  <thead>\n",
       "    <tr style=\"text-align: right;\">\n",
       "      <th></th>\n",
       "      <th>x1</th>\n",
       "      <th>x2</th>\n",
       "      <th>x3</th>\n",
       "      <th>x4</th>\n",
       "      <th>y1</th>\n",
       "      <th>y2</th>\n",
       "      <th>y3</th>\n",
       "      <th>y4</th>\n",
       "    </tr>\n",
       "  </thead>\n",
       "  <tbody>\n",
       "    <tr>\n",
       "      <th>x1</th>\n",
       "      <td>1.000000</td>\n",
       "      <td>1.000000</td>\n",
       "      <td>1.000000</td>\n",
       "      <td>-0.500000</td>\n",
       "      <td>0.816421</td>\n",
       "      <td>0.816237</td>\n",
       "      <td>0.816287</td>\n",
       "      <td>-0.314047</td>\n",
       "    </tr>\n",
       "    <tr>\n",
       "      <th>x2</th>\n",
       "      <td>1.000000</td>\n",
       "      <td>1.000000</td>\n",
       "      <td>1.000000</td>\n",
       "      <td>-0.500000</td>\n",
       "      <td>0.816421</td>\n",
       "      <td>0.816237</td>\n",
       "      <td>0.816287</td>\n",
       "      <td>-0.314047</td>\n",
       "    </tr>\n",
       "    <tr>\n",
       "      <th>x3</th>\n",
       "      <td>1.000000</td>\n",
       "      <td>1.000000</td>\n",
       "      <td>1.000000</td>\n",
       "      <td>-0.500000</td>\n",
       "      <td>0.816421</td>\n",
       "      <td>0.816237</td>\n",
       "      <td>0.816287</td>\n",
       "      <td>-0.314047</td>\n",
       "    </tr>\n",
       "    <tr>\n",
       "      <th>x4</th>\n",
       "      <td>-0.500000</td>\n",
       "      <td>-0.500000</td>\n",
       "      <td>-0.500000</td>\n",
       "      <td>1.000000</td>\n",
       "      <td>-0.529093</td>\n",
       "      <td>-0.718437</td>\n",
       "      <td>-0.344661</td>\n",
       "      <td>0.816521</td>\n",
       "    </tr>\n",
       "    <tr>\n",
       "      <th>y1</th>\n",
       "      <td>0.816421</td>\n",
       "      <td>0.816421</td>\n",
       "      <td>0.816421</td>\n",
       "      <td>-0.529093</td>\n",
       "      <td>1.000000</td>\n",
       "      <td>0.750005</td>\n",
       "      <td>0.468717</td>\n",
       "      <td>-0.489116</td>\n",
       "    </tr>\n",
       "    <tr>\n",
       "      <th>y2</th>\n",
       "      <td>0.816237</td>\n",
       "      <td>0.816237</td>\n",
       "      <td>0.816237</td>\n",
       "      <td>-0.718437</td>\n",
       "      <td>0.750005</td>\n",
       "      <td>1.000000</td>\n",
       "      <td>0.587919</td>\n",
       "      <td>-0.478095</td>\n",
       "    </tr>\n",
       "    <tr>\n",
       "      <th>y3</th>\n",
       "      <td>0.816287</td>\n",
       "      <td>0.816287</td>\n",
       "      <td>0.816287</td>\n",
       "      <td>-0.344661</td>\n",
       "      <td>0.468717</td>\n",
       "      <td>0.587919</td>\n",
       "      <td>1.000000</td>\n",
       "      <td>-0.155472</td>\n",
       "    </tr>\n",
       "    <tr>\n",
       "      <th>y4</th>\n",
       "      <td>-0.314047</td>\n",
       "      <td>-0.314047</td>\n",
       "      <td>-0.314047</td>\n",
       "      <td>0.816521</td>\n",
       "      <td>-0.489116</td>\n",
       "      <td>-0.478095</td>\n",
       "      <td>-0.155472</td>\n",
       "      <td>1.000000</td>\n",
       "    </tr>\n",
       "  </tbody>\n",
       "</table>\n",
       "</div>"
      ],
      "text/plain": [
       "          x1        x2        x3        x4        y1        y2        y3  \\\n",
       "x1  1.000000  1.000000  1.000000 -0.500000  0.816421  0.816237  0.816287   \n",
       "x2  1.000000  1.000000  1.000000 -0.500000  0.816421  0.816237  0.816287   \n",
       "x3  1.000000  1.000000  1.000000 -0.500000  0.816421  0.816237  0.816287   \n",
       "x4 -0.500000 -0.500000 -0.500000  1.000000 -0.529093 -0.718437 -0.344661   \n",
       "y1  0.816421  0.816421  0.816421 -0.529093  1.000000  0.750005  0.468717   \n",
       "y2  0.816237  0.816237  0.816237 -0.718437  0.750005  1.000000  0.587919   \n",
       "y3  0.816287  0.816287  0.816287 -0.344661  0.468717  0.587919  1.000000   \n",
       "y4 -0.314047 -0.314047 -0.314047  0.816521 -0.489116 -0.478095 -0.155472   \n",
       "\n",
       "          y4  \n",
       "x1 -0.314047  \n",
       "x2 -0.314047  \n",
       "x3 -0.314047  \n",
       "x4  0.816521  \n",
       "y1 -0.489116  \n",
       "y2 -0.478095  \n",
       "y3 -0.155472  \n",
       "y4  1.000000  "
      ]
     },
     "execution_count": 63,
     "metadata": {},
     "output_type": "execute_result"
    }
   ],
   "source": [
    "data.corr()"
   ]
  },
  {
   "cell_type": "code",
   "execution_count": 69,
   "metadata": {},
   "outputs": [],
   "source": [
    "import numpy as np"
   ]
  },
  {
   "cell_type": "code",
   "execution_count": 75,
   "metadata": {},
   "outputs": [],
   "source": [
    "def line_plot(x,y):\n",
    "    plt.plot(np.unique(x), np.poly1d(np.polyfit(x,y,1))(np.unique(x)))"
   ]
  },
  {
   "cell_type": "code",
   "execution_count": 76,
   "metadata": {},
   "outputs": [],
   "source": [
    "?np.polyfit"
   ]
  },
  {
   "cell_type": "code",
   "execution_count": 77,
   "metadata": {},
   "outputs": [
    {
     "data": {
      "image/png": "[encoded data removed]",
      "text/plain": [
       "<Figure size 432x288 with 1 Axes>"
      ]
     },
     "metadata": {
      "needs_background": "light"
     },
     "output_type": "display_data"
    }
   ],
   "source": [
    "plt.scatter(data['x1'], data['y1'])\n",
    "line_plot(data['x1'], data['y1'])"
   ]
  },
  {
   "cell_type": "code",
   "execution_count": 78,
   "metadata": {},
   "outputs": [
    {
     "data": {
      "image/png": "[encoded data removed]",
      "text/plain": [
       "<Figure size 432x288 with 1 Axes>"
      ]
     },
     "metadata": {
      "needs_background": "light"
     },
     "output_type": "display_data"
    }
   ],
   "source": [
    "plt.scatter(data['x2'], data['y2'])\n",
    "line_plot(data['x2'], data['y2'])"
   ]
  },
  {
   "cell_type": "code",
   "execution_count": 82,
   "metadata": {},
   "outputs": [
    {
     "data": {
      "image/png": "[encoded data removed]",
      "text/plain": [
       "<Figure size 432x288 with 1 Axes>"
      ]
     },
     "metadata": {
      "needs_background": "light"
     },
     "output_type": "display_data"
    }
   ],
   "source": [
    "plt.scatter(data['x3'], data['y3'])\n",
    "line_plot(data['x3'], data['y3'])"
   ]
  },
  {
   "cell_type": "code",
   "execution_count": 83,
   "metadata": {},
   "outputs": [
    {
     "data": {
      "image/png": "[encoded data removed]",
      "text/plain": [
       "<Figure size 432x288 with 1 Axes>"
      ]
     },
     "metadata": {
      "needs_background": "light"
     },
     "output_type": "display_data"
    }
   ],
   "source": [
    "plt.scatter(data['x4'], data['y4'])\n",
    "line_plot(data['x4'], data['y4'])"
   ]
  },
  {
   "cell_type": "markdown",
   "metadata": {},
   "source": [
    "Anscombe F.J. (1973). Graphs in Statistical Analysis. American Statistician, 27(1): 17–21."
   ]
  }
 ],
 "metadata": {
  "kernelspec": {
   "display_name": "Python 3",
   "language": "python",
   "name": "python3"
  },
  "language_info": {
   "codemirror_mode": {
    "name": "ipython",
    "version": 3
   },
   "file_extension": ".py",
   "mimetype": "text/x-python",
   "name": "python",
   "nbconvert_exporter": "python",
   "pygments_lexer": "ipython3",
   "version": "3.7.6"
  }
 },
 "nbformat": 4,
 "nbformat_minor": 4
}
